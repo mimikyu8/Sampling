{
 "cells": [
  {
   "cell_type": "markdown",
   "id": "6eccb54b",
   "metadata": {},
   "source": [
    "# Exercici 1"
   ]
  },
  {
   "cell_type": "markdown",
   "id": "2e48b258",
   "metadata": {},
   "source": [
    "Agafa un conjunt de dades de tema que t'agradi. Realitza un mostreig de les dades generant una mostra aleatòria simple i una mostra sistemàtica."
   ]
  },
  {
   "cell_type": "code",
   "execution_count": 19,
   "id": "56520f82",
   "metadata": {},
   "outputs": [],
   "source": [
    "import pandas as pd \n",
    "import numpy as np \n",
    "import random"
   ]
  },
  {
   "cell_type": "code",
   "execution_count": 2,
   "id": "14c7caba",
   "metadata": {},
   "outputs": [],
   "source": [
    "#source: https://www.kaggle.com/datasets/kamilpytlak/personal-key-indicators-of-heart-disease\n",
    "df = pd.read_csv(\"heart_2020_cleaned.csv\") "
   ]
  },
  {
   "cell_type": "code",
   "execution_count": 5,
   "id": "7b0db9a5",
   "metadata": {},
   "outputs": [
    {
     "data": {
      "text/plain": [
       "(319795, 18)"
      ]
     },
     "execution_count": 5,
     "metadata": {},
     "output_type": "execute_result"
    }
   ],
   "source": [
    "df.shape"
   ]
  },
  {
   "cell_type": "code",
   "execution_count": 6,
   "id": "5f24bc65",
   "metadata": {},
   "outputs": [],
   "source": [
    "#taking a simple random sample of 1000 rows \n",
    "random_df = df.sample(1000)"
   ]
  },
  {
   "cell_type": "code",
   "execution_count": 39,
   "id": "028e2ef0",
   "metadata": {},
   "outputs": [],
   "source": [
    "#define systematic sampling function\n",
    "def syst_sampling(df, s): #df is dataframe, s is sample size we want\n",
    "    start = random.randint(0, int(len(df) / s))\n",
    "    indexes = np.arange(start, len(df), step = int(len(df) / s))\n",
    "    return df.iloc[indexes]"
   ]
  },
  {
   "cell_type": "code",
   "execution_count": 44,
   "id": "def4b43a",
   "metadata": {},
   "outputs": [
    {
     "data": {
      "text/html": [
       "<div>\n",
       "<style scoped>\n",
       "    .dataframe tbody tr th:only-of-type {\n",
       "        vertical-align: middle;\n",
       "    }\n",
       "\n",
       "    .dataframe tbody tr th {\n",
       "        vertical-align: top;\n",
       "    }\n",
       "\n",
       "    .dataframe thead th {\n",
       "        text-align: right;\n",
       "    }\n",
       "</style>\n",
       "<table border=\"1\" class=\"dataframe\">\n",
       "  <thead>\n",
       "    <tr style=\"text-align: right;\">\n",
       "      <th></th>\n",
       "      <th>HeartDisease</th>\n",
       "      <th>BMI</th>\n",
       "      <th>Smoking</th>\n",
       "      <th>AlcoholDrinking</th>\n",
       "      <th>Stroke</th>\n",
       "      <th>PhysicalHealth</th>\n",
       "      <th>MentalHealth</th>\n",
       "      <th>DiffWalking</th>\n",
       "      <th>Sex</th>\n",
       "      <th>AgeCategory</th>\n",
       "      <th>Race</th>\n",
       "      <th>Diabetic</th>\n",
       "      <th>PhysicalActivity</th>\n",
       "      <th>GenHealth</th>\n",
       "      <th>SleepTime</th>\n",
       "      <th>Asthma</th>\n",
       "      <th>KidneyDisease</th>\n",
       "      <th>SkinCancer</th>\n",
       "    </tr>\n",
       "  </thead>\n",
       "  <tbody>\n",
       "    <tr>\n",
       "      <th>255</th>\n",
       "      <td>No</td>\n",
       "      <td>20.75</td>\n",
       "      <td>Yes</td>\n",
       "      <td>No</td>\n",
       "      <td>No</td>\n",
       "      <td>0.0</td>\n",
       "      <td>0.0</td>\n",
       "      <td>No</td>\n",
       "      <td>Male</td>\n",
       "      <td>75-79</td>\n",
       "      <td>White</td>\n",
       "      <td>No</td>\n",
       "      <td>No</td>\n",
       "      <td>Good</td>\n",
       "      <td>8.0</td>\n",
       "      <td>No</td>\n",
       "      <td>No</td>\n",
       "      <td>Yes</td>\n",
       "    </tr>\n",
       "    <tr>\n",
       "      <th>574</th>\n",
       "      <td>No</td>\n",
       "      <td>27.32</td>\n",
       "      <td>No</td>\n",
       "      <td>No</td>\n",
       "      <td>No</td>\n",
       "      <td>0.0</td>\n",
       "      <td>0.0</td>\n",
       "      <td>No</td>\n",
       "      <td>Male</td>\n",
       "      <td>50-54</td>\n",
       "      <td>Black</td>\n",
       "      <td>No</td>\n",
       "      <td>Yes</td>\n",
       "      <td>Excellent</td>\n",
       "      <td>8.0</td>\n",
       "      <td>No</td>\n",
       "      <td>No</td>\n",
       "      <td>No</td>\n",
       "    </tr>\n",
       "    <tr>\n",
       "      <th>893</th>\n",
       "      <td>No</td>\n",
       "      <td>34.67</td>\n",
       "      <td>Yes</td>\n",
       "      <td>No</td>\n",
       "      <td>No</td>\n",
       "      <td>6.0</td>\n",
       "      <td>0.0</td>\n",
       "      <td>Yes</td>\n",
       "      <td>Female</td>\n",
       "      <td>75-79</td>\n",
       "      <td>Black</td>\n",
       "      <td>Yes</td>\n",
       "      <td>No</td>\n",
       "      <td>Good</td>\n",
       "      <td>5.0</td>\n",
       "      <td>No</td>\n",
       "      <td>No</td>\n",
       "      <td>No</td>\n",
       "    </tr>\n",
       "    <tr>\n",
       "      <th>1212</th>\n",
       "      <td>No</td>\n",
       "      <td>29.29</td>\n",
       "      <td>Yes</td>\n",
       "      <td>No</td>\n",
       "      <td>No</td>\n",
       "      <td>30.0</td>\n",
       "      <td>0.0</td>\n",
       "      <td>Yes</td>\n",
       "      <td>Female</td>\n",
       "      <td>60-64</td>\n",
       "      <td>White</td>\n",
       "      <td>No, borderline diabetes</td>\n",
       "      <td>No</td>\n",
       "      <td>Poor</td>\n",
       "      <td>3.0</td>\n",
       "      <td>Yes</td>\n",
       "      <td>No</td>\n",
       "      <td>No</td>\n",
       "    </tr>\n",
       "    <tr>\n",
       "      <th>1531</th>\n",
       "      <td>No</td>\n",
       "      <td>34.75</td>\n",
       "      <td>No</td>\n",
       "      <td>No</td>\n",
       "      <td>No</td>\n",
       "      <td>0.0</td>\n",
       "      <td>2.0</td>\n",
       "      <td>No</td>\n",
       "      <td>Female</td>\n",
       "      <td>35-39</td>\n",
       "      <td>White</td>\n",
       "      <td>No</td>\n",
       "      <td>Yes</td>\n",
       "      <td>Very good</td>\n",
       "      <td>6.0</td>\n",
       "      <td>No</td>\n",
       "      <td>No</td>\n",
       "      <td>No</td>\n",
       "    </tr>\n",
       "  </tbody>\n",
       "</table>\n",
       "</div>"
      ],
      "text/plain": [
       "     HeartDisease    BMI Smoking AlcoholDrinking Stroke  PhysicalHealth  \\\n",
       "255            No  20.75     Yes              No     No             0.0   \n",
       "574            No  27.32      No              No     No             0.0   \n",
       "893            No  34.67     Yes              No     No             6.0   \n",
       "1212           No  29.29     Yes              No     No            30.0   \n",
       "1531           No  34.75      No              No     No             0.0   \n",
       "\n",
       "      MentalHealth DiffWalking     Sex AgeCategory   Race  \\\n",
       "255            0.0          No    Male       75-79  White   \n",
       "574            0.0          No    Male       50-54  Black   \n",
       "893            0.0         Yes  Female       75-79  Black   \n",
       "1212           0.0         Yes  Female       60-64  White   \n",
       "1531           2.0          No  Female       35-39  White   \n",
       "\n",
       "                     Diabetic PhysicalActivity  GenHealth  SleepTime Asthma  \\\n",
       "255                        No               No       Good        8.0     No   \n",
       "574                        No              Yes  Excellent        8.0     No   \n",
       "893                       Yes               No       Good        5.0     No   \n",
       "1212  No, borderline diabetes               No       Poor        3.0    Yes   \n",
       "1531                       No              Yes  Very good        6.0     No   \n",
       "\n",
       "     KidneyDisease SkinCancer  \n",
       "255             No        Yes  \n",
       "574             No         No  \n",
       "893             No         No  \n",
       "1212            No         No  \n",
       "1531            No         No  "
      ]
     },
     "execution_count": 44,
     "metadata": {},
     "output_type": "execute_result"
    }
   ],
   "source": [
    "#taking a systematic sample of 1000 rows\n",
    "systematic_df = syst_sampling(df, 1000)\n",
    "systematic_df.head()"
   ]
  },
  {
   "cell_type": "markdown",
   "id": "0122dae1",
   "metadata": {},
   "source": [
    "# Exercici 2"
   ]
  },
  {
   "cell_type": "markdown",
   "id": "a1917b72",
   "metadata": {},
   "source": [
    "Genera una mostra estratificada i una mostra utilitzant SMOTE (Synthetic Minority Oversampling Technique)."
   ]
  },
  {
   "cell_type": "code",
   "execution_count": 14,
   "id": "3ecc6539",
   "metadata": {},
   "outputs": [],
   "source": [
    "from sklearn.model_selection import train_test_split"
   ]
  },
  {
   "cell_type": "code",
   "execution_count": 10,
   "id": "62d87afb",
   "metadata": {},
   "outputs": [],
   "source": [
    "#sample of 1280 rows dividing by smoker status \n",
    "train, test = train_test_split(df, stratify = df[\"Smoking\"], test_size = 0.004)"
   ]
  },
  {
   "cell_type": "code",
   "execution_count": 16,
   "id": "b200110e",
   "metadata": {},
   "outputs": [],
   "source": [
    "#sample using borderline SMOTE\n",
    "from imblearn.over_sampling import BorderlineSMOTE"
   ]
  },
  {
   "cell_type": "code",
   "execution_count": 15,
   "id": "0099135e",
   "metadata": {},
   "outputs": [],
   "source": [
    "X_train, X_test, y_train, y_test = train_test_split(\n",
    "    df[[\"BMI\", \"PhysicalHealth\"]], df[\"SleepTime\"], test_size = 0.2,  stratify = df[\"SleepTime\"])"
   ]
  },
  {
   "cell_type": "code",
   "execution_count": 17,
   "id": "75dce6e6",
   "metadata": {},
   "outputs": [],
   "source": [
    "#X, y = SMOTE().fit_resample(df[[\"BMI\", \"PhysicalHealth\"]], df[\"SleepTime\"])\n",
    "#no entenc per què aixo em dona eror\n",
    "bsmote = BorderlineSMOTE(kind = 'borderline-1')\n",
    "X_oversample_borderline, y_oversample_borderline = bsmote.fit_resample(X_train, y_train)"
   ]
  },
  {
   "cell_type": "markdown",
   "id": "361ac6e3",
   "metadata": {},
   "source": [
    "# Exercici 3"
   ]
  },
  {
   "cell_type": "markdown",
   "id": "fdf5b720",
   "metadata": {},
   "source": [
    "Genera una mostra utilitzant el mètode Reservoir sampling. "
   ]
  },
  {
   "cell_type": "code",
   "execution_count": 17,
   "id": "5e4c30ea",
   "metadata": {},
   "outputs": [],
   "source": [
    "def generator(max):\n",
    "    number = 1\n",
    "    while number < max:\n",
    "        number += 1\n",
    "        yield number\n",
    "        \n",
    "#create as stream generator\n",
    "stream = generator(df.shape[0]) \n",
    "\n",
    "#reservoir sampling from the stream\n",
    "k = 1000\n",
    "reservoir = []\n",
    "for i, element in enumerate(stream):\n",
    "    if i + 1 <= k:\n",
    "        reservoir.append(element)\n",
    "    else:\n",
    "        probability = k/(i+1)\n",
    "        if random.random() < probability:\n",
    "            # Select item in stream and remove one of the k items already selected\n",
    "             reservoir[random.choice(range(0, k))] = element\n",
    "\n",
    "#use the indexes generated to get the sampled dataframe\n",
    "reservoir_df = df.iloc[reservoir]"
   ]
  }
 ],
 "metadata": {
  "kernelspec": {
   "display_name": "Python 3 (ipykernel)",
   "language": "python",
   "name": "python3"
  },
  "language_info": {
   "codemirror_mode": {
    "name": "ipython",
    "version": 3
   },
   "file_extension": ".py",
   "mimetype": "text/x-python",
   "name": "python",
   "nbconvert_exporter": "python",
   "pygments_lexer": "ipython3",
   "version": "3.9.7"
  },
  "toc": {
   "base_numbering": 1,
   "nav_menu": {},
   "number_sections": true,
   "sideBar": true,
   "skip_h1_title": false,
   "title_cell": "Table of Contents",
   "title_sidebar": "Contents",
   "toc_cell": false,
   "toc_position": {},
   "toc_section_display": true,
   "toc_window_display": false
  }
 },
 "nbformat": 4,
 "nbformat_minor": 5
}
